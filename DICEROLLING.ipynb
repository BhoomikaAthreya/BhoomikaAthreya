{
  "nbformat": 4,
  "nbformat_minor": 0,
  "metadata": {
    "colab": {
      "provenance": [],
      "authorship_tag": "ABX9TyNFEstqexnvGFCC1epU5pKn",
      "include_colab_link": true
    },
    "kernelspec": {
      "name": "python3",
      "display_name": "Python 3"
    },
    "language_info": {
      "name": "python"
    }
  },
  "cells": [
    {
      "cell_type": "markdown",
      "metadata": {
        "id": "view-in-github",
        "colab_type": "text"
      },
      "source": [
        "<a href=\"https://colab.research.google.com/github/BhoomikaAthreya/BhoomikaAthreya/blob/main/DICEROLLING.ipynb\" target=\"_parent\"><img src=\"https://colab.research.google.com/assets/colab-badge.svg\" alt=\"Open In Colab\"/></a>"
      ]
    },
    {
      "cell_type": "markdown",
      "source": [
        "Algorithm\n",
        "1. Develop random No\n",
        "2. Check the No\n",
        "3. print the face\n",
        "4. looping"
      ],
      "metadata": {
        "id": "wG6bKzwtZu57"
      }
    },
    {
      "cell_type": "markdown",
      "source": [
        "RANDOM NUMBERS"
      ],
      "metadata": {
        "id": "h-1AnPrdaKzt"
      }
    },
    {
      "cell_type": "code",
      "execution_count": 12,
      "metadata": {
        "colab": {
          "base_uri": "https://localhost:8080/"
        },
        "id": "92yXzS3QYdie",
        "outputId": "6a5a0bef-5c54-429a-e5ae-5dc9a584d9ec"
      },
      "outputs": [
        {
          "output_type": "stream",
          "name": "stdout",
          "text": [
            "1\n"
          ]
        }
      ],
      "source": [
        "import random\n",
        "num = random.randint(1,6)\n",
        "print(num)"
      ]
    },
    {
      "cell_type": "markdown",
      "source": [
        "CHECK THE NUMBER\n",
        "Dice appearance\n",
        "PRINT THE FACE"
      ],
      "metadata": {
        "id": "ryz5q9iWc1oN"
      }
    },
    {
      "cell_type": "code",
      "source": [
        "import random\n",
        "num = random.randint(1,6)\n",
        "if num == 1:\n",
        "  print(\"---------\")\n",
        "  print(\"|       |\")\n",
        "  print(\"|   o   |\")\n",
        "  print(\"|       |\")\n",
        "  print(\"---------\")\n",
        "if num == 2:\n",
        "  print(\"---------\")\n",
        "  print(\"|       |\")\n",
        "  print(\"|o     o|\")\n",
        "  print(\"|       |\")\n",
        "  print(\"---------\")\n",
        "if num == 3:\n",
        "  print(\"---------\")\n",
        "  print(\"|   o   |\")\n",
        "  print(\"|       |\")\n",
        "  print(\"|o     o|\")\n",
        "  print(\"---------\")\n",
        "if num == 4:\n",
        "  print(\"---------\")\n",
        "  print(\"|o     o|\")\n",
        "  print(\"|       |\")\n",
        "  print(\"|o     o|\")\n",
        "  print(\"---------\")\n",
        "if num == 5:\n",
        "  print(\"---------\")\n",
        "  print(\"|   o   |\")\n",
        "  print(\"|o     o|\")\n",
        "  print(\"|o     o|\")\n",
        "  print(\"---------\")\n",
        "if num == 6:\n",
        "  print(\"---------\")\n",
        "  print(\"|o     o|\")\n",
        "  print(\"|o     o|\")\n",
        "  print(\"|o     o|\")\n",
        "  print(\"---------\")"
      ],
      "metadata": {
        "colab": {
          "base_uri": "https://localhost:8080/"
        },
        "id": "5W3W1wM8anbO",
        "outputId": "60b878da-979b-4ee6-bc01-6aec65efbc57"
      },
      "execution_count": 19,
      "outputs": [
        {
          "output_type": "stream",
          "name": "stdout",
          "text": [
            "---------\n",
            "|       |\n",
            "|o     o|\n",
            "|       |\n",
            "---------\n"
          ]
        }
      ]
    },
    {
      "cell_type": "markdown",
      "source": [
        "LOOPING"
      ],
      "metadata": {
        "id": "0mZ6LMugfNmn"
      }
    },
    {
      "cell_type": "code",
      "source": [
        "import random\n",
        "\n",
        "x = \"y\"\n",
        "\n",
        "while x == \"y\":\n",
        "  num = random.randint(1,6)\n",
        "\n",
        "  if num == 1:\n",
        "    print(\"---------\")\n",
        "    print(\"|       |\")\n",
        "    print(\"|   o   |\")\n",
        "    print(\"|       |\")\n",
        "    print(\"---------\")\n",
        "  if num == 2:\n",
        "    print(\"---------\")\n",
        "    print(\"|       |\")\n",
        "    print(\"|o     o|\")\n",
        "    print(\"|       |\")\n",
        "    print(\"---------\")\n",
        "  if num == 3:\n",
        "    print(\"---------\")\n",
        "    print(\"|   o   |\")\n",
        "    print(\"|       |\")\n",
        "    print(\"|o     o|\")\n",
        "    print(\"---------\")\n",
        "  if num == 4:\n",
        "    print(\"---------\")\n",
        "    print(\"|o     o|\")\n",
        "    print(\"|       |\")\n",
        "    print(\"|o     o|\")\n",
        "    print(\"---------\")\n",
        "  if num == 5:\n",
        "    print(\"---------\")\n",
        "    print(\"|   o   |\")\n",
        "    print(\"|o     o|\")\n",
        "    print(\"|o     o|\")\n",
        "    print(\"---------\")\n",
        "  if num == 6:\n",
        "    print(\"---------\")\n",
        "    print(\"|o     o|\")\n",
        "    print(\"|o     o|\")\n",
        "    print(\"|o     o|\")\n",
        "    print(\"---------\")\n",
        "\n",
        "  x = input(\"y or n\")"
      ],
      "metadata": {
        "colab": {
          "base_uri": "https://localhost:8080/"
        },
        "id": "nUqBKOLedg0Y",
        "outputId": "f2669780-8fd3-435a-94a5-5511a5efb1bd"
      },
      "execution_count": 24,
      "outputs": [
        {
          "name": "stdout",
          "output_type": "stream",
          "text": [
            "---------\n",
            "|       |\n",
            "|o     o|\n",
            "|       |\n",
            "---------\n",
            "y or ny\n",
            "---------\n",
            "|o     o|\n",
            "|o     o|\n",
            "|o     o|\n",
            "---------\n",
            "y or ny\n",
            "---------\n",
            "|   o   |\n",
            "|       |\n",
            "|o     o|\n",
            "---------\n",
            "y or ny\n",
            "---------\n",
            "|o     o|\n",
            "|o     o|\n",
            "|o     o|\n",
            "---------\n",
            "y or ny\n",
            "---------\n",
            "|   o   |\n",
            "|o     o|\n",
            "|o     o|\n",
            "---------\n",
            "y or ny\n",
            "---------\n",
            "|o     o|\n",
            "|       |\n",
            "|o     o|\n",
            "---------\n",
            "y or ny\n",
            "---------\n",
            "|   o   |\n",
            "|       |\n",
            "|o     o|\n",
            "---------\n",
            "y or ny\n",
            "---------\n",
            "|   o   |\n",
            "|o     o|\n",
            "|o     o|\n",
            "---------\n",
            "y or ny\n",
            "---------\n",
            "|o     o|\n",
            "|       |\n",
            "|o     o|\n",
            "---------\n",
            "y or ny\n",
            "---------\n",
            "|o     o|\n",
            "|       |\n",
            "|o     o|\n",
            "---------\n",
            "y or ny\n",
            "---------\n",
            "|   o   |\n",
            "|       |\n",
            "|o     o|\n",
            "---------\n",
            "y or ny\n",
            "---------\n",
            "|o     o|\n",
            "|       |\n",
            "|o     o|\n",
            "---------\n",
            "y or nn\n"
          ]
        }
      ]
    },
    {
      "cell_type": "code",
      "source": [
        "import random\n",
        "print(\"This is a dice stimulator\")\n",
        "x = \"y\"\n",
        "\n",
        "while x == \"y\":\n",
        "  num = random.randint(1,6)\n",
        "\n",
        "  if num == 1:\n",
        "    print(\"---------\")\n",
        "    print(\"|       |\")\n",
        "    print(\"|   o   |\")\n",
        "    print(\"|       |\")\n",
        "    print(\"---------\")\n",
        "  if num == 2:\n",
        "    print(\"---------\")\n",
        "    print(\"|       |\")\n",
        "    print(\"|o     o|\")\n",
        "    print(\"|       |\")\n",
        "    print(\"---------\")\n",
        "  if num == 3:\n",
        "    print(\"---------\")\n",
        "    print(\"|   o   |\")\n",
        "    print(\"|       |\")\n",
        "    print(\"|o     o|\")\n",
        "    print(\"---------\")\n",
        "  if num == 4:\n",
        "    print(\"---------\")\n",
        "    print(\"|o     o|\")\n",
        "    print(\"|       |\")\n",
        "    print(\"|o     o|\")\n",
        "    print(\"---------\")\n",
        "  if num == 5:\n",
        "    print(\"---------\")\n",
        "    print(\"|   o   |\")\n",
        "    print(\"|o     o|\")\n",
        "    print(\"|o     o|\")\n",
        "    print(\"---------\")\n",
        "  if num == 6:\n",
        "    print(\"---------\")\n",
        "    print(\"|o     o|\")\n",
        "    print(\"|o     o|\")\n",
        "    print(\"|o     o|\")\n",
        "    print(\"---------\")\n",
        "\n",
        "  x = input(\"Press y to roll again\")"
      ],
      "metadata": {
        "colab": {
          "base_uri": "https://localhost:8080/"
        },
        "id": "AtP67AVJgKjC",
        "outputId": "b15b9138-4538-4369-90ef-86887e1c0bf1"
      },
      "execution_count": 26,
      "outputs": [
        {
          "name": "stdout",
          "output_type": "stream",
          "text": [
            "This is a dice stimulator\n",
            "---------\n",
            "|   o   |\n",
            "|       |\n",
            "|o     o|\n",
            "---------\n",
            "Press y to roll againa\n"
          ]
        }
      ]
    },
    {
      "cell_type": "code",
      "source": [],
      "metadata": {
        "id": "t-NWY8BAhKsa"
      },
      "execution_count": null,
      "outputs": []
    }
  ]
}